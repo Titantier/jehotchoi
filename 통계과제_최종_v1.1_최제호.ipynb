{
 "cells": [
  {
   "cell_type": "code",
   "execution_count": 1,
   "metadata": {},
   "outputs": [],
   "source": [
    "import pandas as pd\n",
    "import numpy as np\n",
    "import matplotlib as mpl\n",
    "import matplotlib.pylab as plt\n",
    "%matplotlib inline\n",
    "import seaborn as sns\n",
    "from scipy.stats import shapiro, levene, ttest_ind\n",
    "import statsmodels.api as sm"
   ]
  },
  {
   "cell_type": "code",
   "execution_count": 2,
   "metadata": {},
   "outputs": [
    {
     "data": {
      "text/html": [
       "<div>\n",
       "<style scoped>\n",
       "    .dataframe tbody tr th:only-of-type {\n",
       "        vertical-align: middle;\n",
       "    }\n",
       "\n",
       "    .dataframe tbody tr th {\n",
       "        vertical-align: top;\n",
       "    }\n",
       "\n",
       "    .dataframe thead th {\n",
       "        text-align: right;\n",
       "    }\n",
       "</style>\n",
       "<table border=\"1\" class=\"dataframe\">\n",
       "  <thead>\n",
       "    <tr style=\"text-align: right;\">\n",
       "      <th></th>\n",
       "      <th>SB</th>\n",
       "      <th>CS</th>\n",
       "      <th>BB</th>\n",
       "      <th>HBP</th>\n",
       "      <th>OPS</th>\n",
       "    </tr>\n",
       "  </thead>\n",
       "  <tbody>\n",
       "    <tr>\n",
       "      <td>count</td>\n",
       "      <td>2428.000000</td>\n",
       "      <td>2428.000000</td>\n",
       "      <td>2428.000000</td>\n",
       "      <td>2428.000000</td>\n",
       "      <td>2428.000000</td>\n",
       "    </tr>\n",
       "    <tr>\n",
       "      <td>mean</td>\n",
       "      <td>5.346787</td>\n",
       "      <td>2.359555</td>\n",
       "      <td>21.166804</td>\n",
       "      <td>3.461285</td>\n",
       "      <td>0.649939</td>\n",
       "    </tr>\n",
       "    <tr>\n",
       "      <td>std</td>\n",
       "      <td>9.120536</td>\n",
       "      <td>3.202615</td>\n",
       "      <td>21.208905</td>\n",
       "      <td>4.139380</td>\n",
       "      <td>0.261634</td>\n",
       "    </tr>\n",
       "    <tr>\n",
       "      <td>min</td>\n",
       "      <td>0.000000</td>\n",
       "      <td>0.000000</td>\n",
       "      <td>0.000000</td>\n",
       "      <td>0.000000</td>\n",
       "      <td>0.000000</td>\n",
       "    </tr>\n",
       "    <tr>\n",
       "      <td>25%</td>\n",
       "      <td>0.000000</td>\n",
       "      <td>0.000000</td>\n",
       "      <td>3.000000</td>\n",
       "      <td>0.000000</td>\n",
       "      <td>0.546000</td>\n",
       "    </tr>\n",
       "    <tr>\n",
       "      <td>50%</td>\n",
       "      <td>2.000000</td>\n",
       "      <td>1.000000</td>\n",
       "      <td>14.000000</td>\n",
       "      <td>2.000000</td>\n",
       "      <td>0.688637</td>\n",
       "    </tr>\n",
       "    <tr>\n",
       "      <td>75%</td>\n",
       "      <td>6.000000</td>\n",
       "      <td>3.000000</td>\n",
       "      <td>34.250000</td>\n",
       "      <td>5.000000</td>\n",
       "      <td>0.797234</td>\n",
       "    </tr>\n",
       "    <tr>\n",
       "      <td>max</td>\n",
       "      <td>84.000000</td>\n",
       "      <td>21.000000</td>\n",
       "      <td>108.000000</td>\n",
       "      <td>27.000000</td>\n",
       "      <td>4.000000</td>\n",
       "    </tr>\n",
       "  </tbody>\n",
       "</table>\n",
       "</div>"
      ],
      "text/plain": [
       "                SB           CS           BB          HBP          OPS\n",
       "count  2428.000000  2428.000000  2428.000000  2428.000000  2428.000000\n",
       "mean      5.346787     2.359555    21.166804     3.461285     0.649939\n",
       "std       9.120536     3.202615    21.208905     4.139380     0.261634\n",
       "min       0.000000     0.000000     0.000000     0.000000     0.000000\n",
       "25%       0.000000     0.000000     3.000000     0.000000     0.546000\n",
       "50%       2.000000     1.000000    14.000000     2.000000     0.688637\n",
       "75%       6.000000     3.000000    34.250000     5.000000     0.797234\n",
       "max      84.000000    21.000000   108.000000    27.000000     4.000000"
      ]
     },
     "execution_count": 2,
     "metadata": {},
     "output_type": "execute_result"
    }
   ],
   "source": [
    "df = pd.read_csv(\"c:/Users\\jehot\\Desktop\\통계/Regular_Season_Batter.csv\")\n",
    "df=df.filter(['SB','CS','BB','HBP','OPS'])\n",
    "df=df.dropna()\n",
    "df.describe()\n",
    "#SB : 도루 / CS : 도루실패 / BB : 볼넷 / HBP : 사사구"
   ]
  },
  {
   "cell_type": "code",
   "execution_count": 3,
   "metadata": {},
   "outputs": [
    {
     "data": {
      "image/png": "[encoded data removed]",
      "text/plain": [
       "<Figure size 1080x216 with 5 Axes>"
      ]
     },
     "metadata": {
      "needs_background": "light"
     },
     "output_type": "display_data"
    }
   ],
   "source": [
    "fig, axs = plt.subplots(ncols=5, nrows=1, figsize=(15, 3))\n",
    "index = 0\n",
    "axs = axs.flatten()\n",
    "\n",
    "for k,v in df.items():\n",
    "    sns.distplot(v, ax=axs[index])\n",
    "    index += 1\n",
    "plt.tight_layout(pad=0.4, w_pad=0.5, h_pad=5.0)"
   ]
  },
  {
   "cell_type": "code",
   "execution_count": 4,
   "metadata": {},
   "outputs": [],
   "source": [
    "# 변수 지정\n",
    "\n",
    "x1 = df['SB']\n",
    "x2 = df['CS']\n",
    "x3 = df['BB']\n",
    "x4 = df['HBP']\n",
    "y = df['OPS']"
   ]
  },
  {
   "cell_type": "code",
   "execution_count": 5,
   "metadata": {},
   "outputs": [
    {
     "name": "stdout",
     "output_type": "stream",
     "text": [
      "(0.6208842992782593, 0.0) (0.8870577812194824, 6.39792241155246e-39)\n",
      "LeveneResult(statistic=808.7860802901694, pvalue=1.098725823967591e-164)\n",
      "Ttest_indResult(statistic=25.3648285396796, pvalue=3.9927190496466936e-126)\n"
     ]
    }
   ],
   "source": [
    "#SB\n",
    "#정규성 검정, P-value가 0.05 보다 커야 정규성 만족\n",
    "#귀무가설 H0 : 모집단은 정규분포를 따른다\n",
    "#대립가설 H1 : 모집단은 정규분포를 따르지 않는다\n",
    "\n",
    "normal1=shapiro(x1)\n",
    "normal2=shapiro(y)\n",
    "print(normal1,normal2)\n",
    "\n",
    "#등분산성 검정, P-value가 0.05보다 커야 등분산성 만족\n",
    "#귀무가설 H0 : 등분산성이 있다\n",
    "#대립가설 H1 : 등분산성이 없다\n",
    "\n",
    "lresult = levene(x1, y)\n",
    "print(lresult)\n",
    "\n",
    "#독립 T-test 검정\n",
    "\n",
    "print(ttest_ind(x1, y,equal_var = False))"
   ]
  },
  {
   "cell_type": "code",
   "execution_count": 6,
   "metadata": {},
   "outputs": [
    {
     "name": "stdout",
     "output_type": "stream",
     "text": [
      "(0.7484216690063477, 0.0) (0.8870577812194824, 6.39792241155246e-39)\n",
      "LeveneResult(statistic=1243.7675837591319, pvalue=9.082118711544064e-243)\n",
      "Ttest_indResult(statistic=26.216454714371253, pvalue=8.42827489326158e-134)\n"
     ]
    }
   ],
   "source": [
    "#CS\n",
    "\n",
    "normal1=shapiro(x2)\n",
    "normal2=shapiro(y)\n",
    "print(normal1,normal2)\n",
    "\n",
    "lresult = levene(x2, y)\n",
    "print(lresult)\n",
    "\n",
    "print(ttest_ind(x2, y,equal_var = False))"
   ]
  },
  {
   "cell_type": "code",
   "execution_count": 7,
   "metadata": {},
   "outputs": [
    {
     "name": "stdout",
     "output_type": "stream",
     "text": [
      "(0.8764718770980835, 3.102530851953718e-40) (0.8870577812194824, 6.39792241155246e-39)\n",
      "LeveneResult(statistic=3079.4494168907063, pvalue=0.0)\n",
      "Ttest_indResult(statistic=47.66329442773698, pvalue=0.0)\n"
     ]
    }
   ],
   "source": [
    "#BB\n",
    "\n",
    "normal1=shapiro(x3)\n",
    "normal2=shapiro(y)\n",
    "print(normal1,normal2)\n",
    "\n",
    "lresult = levene(x3, y)\n",
    "print(lresult)\n",
    "\n",
    "print(ttest_ind(x3, y,equal_var = False))"
   ]
  },
  {
   "cell_type": "code",
   "execution_count": 8,
   "metadata": {},
   "outputs": [
    {
     "name": "stdout",
     "output_type": "stream",
     "text": [
      "(0.8033740520477295, 0.0) (0.8870577812194824, 6.39792241155246e-39)\n",
      "LeveneResult(statistic=1761.8867776318007, pvalue=0.0)\n",
      "Ttest_indResult(statistic=33.39931518927212, pvalue=7.710006880916176e-202)\n"
     ]
    }
   ],
   "source": [
    "#HBP\n",
    "\n",
    "normal1=shapiro(x4)\n",
    "normal2=shapiro(y)\n",
    "print(normal1,normal2)\n",
    "\n",
    "lresult = levene(x4, y)\n",
    "print(lresult)\n",
    "\n",
    "print(ttest_ind(x4, y, equal_var = False))"
   ]
  },
  {
   "cell_type": "code",
   "execution_count": 9,
   "metadata": {
    "scrolled": true
   },
   "outputs": [
    {
     "name": "stdout",
     "output_type": "stream",
     "text": [
      "SB     0.240282\n",
      "CS     0.283267\n",
      "HBP    0.418250\n",
      "BB     0.546328\n",
      "OPS    1.000000\n",
      "Name: OPS, dtype: float64\n"
     ]
    }
   ],
   "source": [
    "correlations = df.corr()['OPS'].sort_values()\n",
    "print(correlations)"
   ]
  },
  {
   "cell_type": "code",
   "execution_count": 10,
   "metadata": {},
   "outputs": [
    {
     "data": {
      "text/plain": [
       "<matplotlib.axes._subplots.AxesSubplot at 0x1d1da467288>"
      ]
     },
     "execution_count": 10,
     "metadata": {},
     "output_type": "execute_result"
    },
    {
     "data": {
      "image/png": "[encoded data removed]",
      "text/plain": [
       "<Figure size 720x360 with 2 Axes>"
      ]
     },
     "metadata": {
      "needs_background": "light"
     },
     "output_type": "display_data"
    }
   ],
   "source": [
    "colormap = plt.cm.RdYlBu_r \n",
    "plt.figure(figsize=(10, 5)) \n",
    "plt.title(\"Correlation\", y = 1.05, size = 15) \n",
    "sns.heatmap(df.astype(float).corr(), linewidths = 0.1, vmax = 1.0, square = True, cmap = colormap, linecolor = \"white\", annot = True, annot_kws = {\"size\" : 8})"
   ]
  },
  {
   "cell_type": "code",
   "execution_count": 12,
   "metadata": {},
   "outputs": [
    {
     "name": "stdout",
     "output_type": "stream",
     "text": [
      "   VIF Factor features\n",
      "0    7.429911    const\n",
      "1    2.743352       SB\n",
      "2    2.988484       CS\n",
      "3    2.318038       BB\n",
      "4    1.630954      HBP\n",
      "5    1.449313      OPS\n",
      "                            OLS Regression Results                            \n",
      "==============================================================================\n",
      "Dep. Variable:                    OPS   R-squared:                       1.000\n",
      "Model:                            OLS   Adj. R-squared:                  1.000\n",
      "Method:                 Least Squares   F-statistic:                 2.188e+31\n",
      "Date:                Mon, 08 Jun 2020   Prob (F-statistic):               0.00\n",
      "Time:                        22:06:00   Log-Likelihood:                 79911.\n",
      "No. Observations:                2428   AIC:                        -1.598e+05\n",
      "Df Residuals:                    2422   BIC:                        -1.598e+05\n",
      "Df Model:                           5                                         \n",
      "Covariance Type:            nonrobust                                         \n",
      "==============================================================================\n",
      "                 coef    std err          t      P>|t|      [0.025      0.975]\n",
      "------------------------------------------------------------------------------\n",
      "const       2.186e-16   6.82e-17      3.207      0.001    8.49e-17    3.52e-16\n",
      "SB         -4.358e-17   4.54e-18     -9.595      0.000   -5.25e-17   -3.47e-17\n",
      "CS          -1.57e-16   1.35e-17    -11.628      0.000   -1.83e-16   -1.31e-16\n",
      "BB         -2.418e-17    1.8e-18    -13.465      0.000   -2.77e-17   -2.07e-17\n",
      "HBP          2.78e-16   7.72e-18     36.023      0.000    2.63e-16    2.93e-16\n",
      "OPS            1.0000   1.15e-16   8.69e+15      0.000       1.000       1.000\n",
      "==============================================================================\n",
      "Omnibus:                      261.050   Durbin-Watson:                   0.799\n",
      "Prob(Omnibus):                  0.000   Jarque-Bera (JB):             1987.166\n",
      "Skew:                           0.180   Prob(JB):                         0.00\n",
      "Kurtosis:                       7.417   Cond. No.                         162.\n",
      "==============================================================================\n",
      "\n",
      "Warnings:\n",
      "[1] Standard Errors assume that the covariance matrix of the errors is correctly specified.\n"
     ]
    }
   ],
   "source": [
    "from statsmodels.stats.outliers_influence import variance_inflation_factor\n",
    "\n",
    "column_sels = ['SB','CS','BB','HBP','OPS']\n",
    "\n",
    "dfX0 = df.loc[:,column_sels]\n",
    "dfX = sm.add_constant(dfX0)\n",
    "dfy = df['OPS']\n",
    "\n",
    "vif = pd.DataFrame()\n",
    "vif[\"VIF Factor\"] = [variance_inflation_factor(\n",
    "    dfX.values, i) for i in range(dfX.shape[1])]\n",
    "vif[\"features\"] = dfX.columns\n",
    "print(vif)\n",
    "\n",
    "model = sm.OLS(dfy, dfX)\n",
    "result = model.fit()\n",
    "print(result.summary())"
   ]
  },
  {
   "cell_type": "code",
   "execution_count": null,
   "metadata": {},
   "outputs": [],
   "source": []
  }
 ],
 "metadata": {
  "kernelspec": {
   "display_name": "Python 3",
   "language": "python",
   "name": "python3"
  },
  "language_info": {
   "codemirror_mode": {
    "name": "ipython",
    "version": 3
   },
   "file_extension": ".py",
   "mimetype": "text/x-python",
   "name": "python",
   "nbconvert_exporter": "python",
   "pygments_lexer": "ipython3",
   "version": "3.7.4"
  }
 },
 "nbformat": 4,
 "nbformat_minor": 2
}
